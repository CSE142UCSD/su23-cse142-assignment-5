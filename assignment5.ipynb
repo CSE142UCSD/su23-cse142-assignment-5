{
 "cells": [
  {
   "cell_type": "markdown",
   "id": "dba48621-2449-4f97-a8b8-a9d57a26cfbb",
   "metadata": {},
   "source": [
    "1.  [Please put your name here]\n",
    "2.  [Please put your PID here]\n",
    "3.  [Please put your @ucsd.edu email address here]"
   ]
  },
  {
   "cell_type": "markdown",
   "id": "f6a8d939-1a2a-449b-9273-6fb91ff280ff",
   "metadata": {
    "deletable": false,
    "tags": []
   },
   "source": [
    "<div style=\" font-size: 300% !important;\n",
    "    margin-top: 1.5em;\n",
    "    margin-bottom: 10px;\n",
    "    font-weight: bold;\n",
    "    line-height: 1.0;\n",
    "    text-align:center;\">\n",
    "\n",
    "#### CSE142 Assignment 5\n",
    "</div>"
   ]
  },
  {
   "cell_type": "markdown",
   "id": "550d41b7-79f9-45e5-9c10-7b6153b3a734",
   "metadata": {
    "tags": []
   },
   "source": [
    "<div style=\"page-break-after: always;\"></div>\n",
    "<div class=\"alert alert-block alert-success\">\n",
    "\n",
    "## Question 1\n",
    " Consider the following two processors:\n",
    "- I. CPU CMP: 2-core superscalar processor with out-of-order issue capabilities. Each core has two functional units and these functional units can be pipelined if it needs more cycles to execute. Only a single thread can run on each core at a time.\n",
    "- II. CPU SMT: An SMT processor that allows instructions from two threads to be run concurrently on the two functional units, and instructions from either or both threads can be issued to run on any cycle.\n",
    "\n",
    "Assume we have two threads A and B to run on these CPUs that include the following operations (You may assume these processors have full capability of eliminating false dependencies and all the instructions are already in instruction queues. If not specified, the instruction will take one cycle to execute):\n",
    "\n",
    "|Thread A |\tThread B|\n",
    "|---|--|\n",
    "|A1: takes 2 cycles to execute |\tB1: no dependencies |\n",
    "|A2: depends on the result of A1 |B2: conflicts for a functional unit with B1 (They must use the same one) |\n",
    "|A3: conflicts for a functional unit with A2 (They must use the same one) |B3: no dependencies |\n",
    "|A4: depends on the result of A2|B4: depends on the result of B2|\n",
    "\n",
    "Please answer the following questions."
   ]
  },
  {
   "cell_type": "markdown",
   "id": "33719170-e5fa-4074-aff8-acf7459e69e9",
   "metadata": {
    "tags": []
   },
   "source": [
    "<div class=\"alert alert-block alert-success\">\n",
    "\n",
    "### 1.A. \n",
    "    \n",
    "How many cycles will it take to issue these two threads on processor I?\n",
    "</div>"
   ]
  },
  {
   "cell_type": "markdown",
   "id": "80b6e8e6-66e3-4fdb-b7ab-956abd7f0a8f",
   "metadata": {},
   "source": [
    "Please type your answer here."
   ]
  },
  {
   "cell_type": "markdown",
   "id": "f53b2e95-2e0a-4cba-a69a-e7fbcdfd17e8",
   "metadata": {
    "tags": []
   },
   "source": [
    "<div class=\"alert alert-block alert-success\">\n",
    "\n",
    "### 1.B. \n",
    "    \n",
    "How many issue slots are wasted due to hazards on processor I?\n",
    "</div>"
   ]
  },
  {
   "cell_type": "markdown",
   "id": "35800740-60a5-42c2-aa7e-4609faf8a0fb",
   "metadata": {},
   "source": [
    "Please type your answer here."
   ]
  },
  {
   "cell_type": "markdown",
   "id": "ec3387f0-96d4-49d3-a004-f6a3172cb0a7",
   "metadata": {
    "tags": []
   },
   "source": [
    "<div class=\"alert alert-block alert-success\">\n",
    "\n",
    "### 1.C. \n",
    "    \n",
    "How many cycles will it take to issue these two threads on processor II?\n",
    "</div>"
   ]
  },
  {
   "cell_type": "markdown",
   "id": "d916f341-bb59-4c3a-ae0a-4460977bcd1a",
   "metadata": {},
   "source": [
    "Please type your answer here."
   ]
  },
  {
   "cell_type": "markdown",
   "id": "62d9ec99-a260-4eaa-8d97-3eef0579fdc6",
   "metadata": {
    "tags": []
   },
   "source": [
    "<div class=\"alert alert-block alert-success\">\n",
    "\n",
    "### 1.D. \n",
    "    \n",
    "How many issue slots are wasted due to hazards on processor II?\n",
    "</div>"
   ]
  },
  {
   "cell_type": "markdown",
   "id": "f493ff53-0b80-4468-9ecd-f6f56eb00a1e",
   "metadata": {},
   "source": [
    "Please type your answer here."
   ]
  },
  {
   "cell_type": "markdown",
   "id": "cda65873-1012-4934-b1aa-251c8ef3a922",
   "metadata": {
    "deletable": false,
    "tags": []
   },
   "source": [
    "<div style=\"page-break-after: always;\"></div>\n",
    "<div class=\"alert alert-block alert-success\">\n",
    "\n",
    "## Question 2\n",
    "Assume that you are running the following code segment on a symmetric multicore\n",
    "processor, where the initial values of both x and y are 0.\n",
    "\n",
    "|Core 1 |Core 2 |\n",
    "|---|---|\n",
    "|x = 2;|y=2;|\n",
    "|w= x+y+1;|z=x+y;|\n",
    "\n",
    "Please answer the following questions."
   ]
  },
  {
   "cell_type": "markdown",
   "id": "038b45d7-a3f9-46a0-88bf-0f120acac891",
   "metadata": {
    "tags": []
   },
   "source": [
    "<div class=\"alert alert-block alert-success\">\n",
    "\n",
    "### 2.A. \n",
    "    \n",
    "Please list all the possible resulting values of w, x, y, z. For each possible\n",
    "outcome, explain how we might arrive at those values. You may need to\n",
    "examine all possible interleaving of instructions. (If you feel that there are too\n",
    "many possibilities, you may assume the cache is coherent.)\n",
    "\n",
    "</div>"
   ]
  },
  {
   "cell_type": "markdown",
   "id": "0c7d2609-d5cc-4822-8314-bb5fbe79f847",
   "metadata": {},
   "source": [
    "Please type your answer here."
   ]
  },
  {
   "cell_type": "markdown",
   "id": "9b1a62aa-29f8-4e55-8d23-ad085670ecad",
   "metadata": {
    "tags": []
   },
   "source": [
    "<div class=\"alert alert-block alert-success\">\n",
    "\n",
    "### 2.B. \n",
    "    \n",
    "If you wanted to make the system sequentially consistent, what are the key\n",
    "constraints you need to impose?\n",
    "</div>"
   ]
  },
  {
   "cell_type": "markdown",
   "id": "7157af08-4625-4a2b-ba6d-cb27dbe4c096",
   "metadata": {},
   "source": [
    "Please type your answer here."
   ]
  },
  {
   "cell_type": "markdown",
   "id": "905d6935-c94b-464e-ad17-0b5882c67196",
   "metadata": {
    "tags": []
   },
   "source": [
    "<div class=\"alert alert-block alert-success\">\n",
    "\n",
    "### 2.C. \n",
    "    \n",
    "Assume the processor supports \"relaxed memory consistency\" model, which\n",
    "requires synchronization to be explicitly identified. To achieve \"relaxed\n",
    "memory consistency\" model, the processor provides a \"barrier\" instruction (i.e., using the **mfence** instructions we demonstrated in the lecture),\n",
    "which ensures that all memory operation preceding the barrier instruction\n",
    "complete before any memory operations following the barrier are allowed to\n",
    "begin. Where would you include the barrier instructions in the above code\n",
    "segment to get the result as x = 2, y = 2, w = 5, and z = 4?\n",
    "</div>"
   ]
  },
  {
   "cell_type": "markdown",
   "id": "5de73b88-3b12-4522-9889-c7b0bda85379",
   "metadata": {},
   "source": [
    "Please type your answer here."
   ]
  }
 ],
 "metadata": {
  "kernelspec": {
   "display_name": "Python 3 (ipykernel)",
   "language": "python",
   "name": "python3"
  },
  "language_info": {
   "codemirror_mode": {
    "name": "ipython",
    "version": 3
   },
   "file_extension": ".py",
   "mimetype": "text/x-python",
   "name": "python",
   "nbconvert_exporter": "python",
   "pygments_lexer": "ipython3",
   "version": "3.8.10"
  },
  "widgets": {
   "application/vnd.jupyter.widget-state+json": {
    "state": {},
    "version_major": 2,
    "version_minor": 0
   }
  }
 },
 "nbformat": 4,
 "nbformat_minor": 5
}
